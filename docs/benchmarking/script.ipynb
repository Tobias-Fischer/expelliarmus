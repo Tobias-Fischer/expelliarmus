{
 "cells": [
  {
   "cell_type": "code",
   "execution_count": 1,
   "id": "67216d11",
   "metadata": {},
   "outputs": [],
   "source": [
    "from expelliarmus import Wizard\n",
    "import pathlib\n",
    "import h5py\n",
    "import numpy as np\n",
    "import timeit\n",
    "import requests\n",
    "import pickle\n",
    "\n",
    "FIRST_RUN = False\n",
    "SAVE_RESULTS = True\n",
    "LOAD_RESULTS = False\n",
    "REPEAT = 20"
   ]
  },
  {
   "cell_type": "code",
   "execution_count": 2,
   "id": "88b54325",
   "metadata": {},
   "outputs": [],
   "source": [
    "def get_diff_perc_str(ref, val):\n",
    "    if (val > ref):\n",
    "        return f\"+{(val/ref-1)*100:.2f}%\"\n",
    "    else:\n",
    "        return f\"-{(1-val/ref)*100:.2f}%\"\n",
    "    \n",
    "get_fsize_MB = lambda fpath: round(fpath.stat().st_size/(1024*1024))"
   ]
  },
  {
   "cell_type": "code",
   "execution_count": 3,
   "id": "590db872",
   "metadata": {},
   "outputs": [],
   "source": [
    "if FIRST_RUN:\n",
    "    # Downloading files.\n",
    "    if not pathlib.Path(\"./spinner.dat\").is_file():\n",
    "        print(\"Downloading DAT file...\")\n",
    "        r = requests.get(\"https://dataset.prophesee.ai/index.php/s/YAri3vpPZHhEZfc/download\", allow_redirects=True) # spinner.dat, DAT\n",
    "        open('./spinner.dat', 'wb').write(r.content)\n",
    "    if not pathlib.Path(\"./monitoring_40_50hz.raw\").is_file():\n",
    "        print(\"Downloading EVT2 file...\")\n",
    "        r = requests.get(\"https://dataset.prophesee.ai/index.php/s/s5DFqzVQhlaU8Y5/download\", allow_redirects=True) # monitoring_40_50hz.raw, EVT2\n",
    "        open('./monitoring_40_50hz.raw', 'wb').write(r.content)\n",
    "    if not pathlib.Path(\"./driving_sample.raw\").is_file():\n",
    "        print(\"Downloading EVT3 file...\")\n",
    "        r = requests.get(\"https://dataset.prophesee.ai/index.php/s/nVcLLdWAnNzrmII/download\", allow_redirects=True) # driving_sample.raw, EVT3\n",
    "        open('./driving_sample.raw', 'wb').write(r.content)\n",
    "    print(\"Everything downloaded!\")\n",
    "files = (\"spinner.dat\", \"monitoring_40_50hz.raw\", \"driving_sample.raw\")"
   ]
  },
  {
   "cell_type": "code",
   "execution_count": 4,
   "id": "0fd9c45b",
   "metadata": {},
   "outputs": [],
   "source": [
    "softwares = (\"expelliarmus\", \"hdf5\", \"hdf5_lzf\", \"hdf5_gzip\", \"numpy\")\n",
    "encodings = (\"dat\", \"evt2\", \"evt3\")\n",
    "metrics = (\"fsize\", \"full_read\", \"chunk_read\")\n",
    "data = {}\n",
    "for software in softwares:\n",
    "    data[software] = {}\n",
    "    for encoding in encodings:\n",
    "        data[software][encoding] = {}\n",
    "        for metric in metrics:\n",
    "            data[software][encoding][metric] = 0"
   ]
  },
  {
   "cell_type": "code",
   "execution_count": 5,
   "id": "f8f0e10d",
   "metadata": {},
   "outputs": [
    {
     "name": "stdout",
     "output_type": "stream",
     "text": [
      "==================================================\n",
      "Full file read\n",
      "==================================================\n",
      "DAT (413MB), execution time: 0.248s.\n",
      "HDF5 (826MB, +100.00%), execution time: 0.361s, +45.78%.\n",
      "HDF5 GZIP (163MB, -60.53%), execution time: 2.348s, +847.56%.\n",
      "HDF5 LZF (316MB, -23.49%), execution time: 1.419s, +472.77%.\n",
      "NumPy (826MB, +100.00%), execution time: 0.138s, -44.16%.\n",
      "==================================================\n",
      "EVT2 (157MB), execution time: 0.221s.\n",
      "HDF5 (621MB, +295.54%), execution time: 0.252s, +14.00%.\n",
      "HDF5 GZIP (156MB, -0.64%), execution time: 2.111s, +854.72%.\n",
      "HDF5 LZF (276MB, +75.80%), execution time: 1.206s, +445.73%.\n",
      "NumPy (621MB, +295.54%), execution time: 0.092s, -58.25%.\n",
      "==================================================\n",
      "EVT3 (350MB), execution time: 1.824s.\n",
      "HDF5 (1701MB, +386.00%), execution time: 0.690s, -62.18%.\n",
      "HDF5 GZIP (419MB, +19.71%), execution time: 5.533s, +203.37%.\n",
      "HDF5 LZF (746MB, +113.14%), execution time: 3.009s, +64.99%.\n",
      "NumPy (1701MB, +386.00%), execution time: 0.259s, -85.79%.\n"
     ]
    }
   ],
   "source": [
    "if LOAD_RESULTS:\n",
    "    data = pickle.load(open(\"./benchmark.pk\", \"rb\"))\n",
    "\n",
    "wizard = Wizard(encoding=\"dat\")\n",
    "print(\"=\"*50+\"\\nFull file read\")\n",
    "for f, encoding in zip(files, encodings):\n",
    "    print(\"=\"*50)\n",
    "\n",
    "    if not LOAD_RESULTS:\n",
    "        exp_fpath = pathlib.Path(f)\n",
    "        hdf5_fpath = pathlib.Path(f\"./ref_HDF5_{encoding.upper()}.hdf5\")\n",
    "        hdf5_lzf_fpath = pathlib.Path(f\"./ref_HDF5_LZF_{encoding.upper()}.hdf5\")\n",
    "        hdf5_gzip_fpath = pathlib.Path(f\"./ref_HDF5_GZIP_{encoding.upper()}.hdf5\")\n",
    "        np_fpath = pathlib.Path(f\"./ref_np_{encoding.upper()}.npy\")\n",
    "\n",
    "        wizard.set_encoding(encoding)\n",
    "        wizard.set_file(exp_fpath)\n",
    "        if FIRST_RUN:\n",
    "            arr = wizard.read()\n",
    "        data[\"expelliarmus\"][encoding][\"fsize\"] = get_fsize_MB(exp_fpath)\n",
    "\n",
    "        # HDF5 \n",
    "        if FIRST_RUN:\n",
    "            hdf5_fp = h5py.File(hdf5_fpath, \"w\")\n",
    "            arr_hdf5 = hdf5_fp.create_dataset(\"arr\", arr.shape, arr.dtype)\n",
    "            arr_hdf5[:] = arr[:]\n",
    "            hdf5_fp.close()\n",
    "        data[\"hdf5\"][encoding][\"fsize\"] = get_fsize_MB(hdf5_fpath)\n",
    "\n",
    "        # HDF5 LZF\n",
    "        if FIRST_RUN:\n",
    "            hdf5_lzf_fp = h5py.File(hdf5_lzf_fpath, \"w\")\n",
    "            arr_hdf5_lzf = hdf5_lzf_fp.create_dataset(\"arr\", arr.shape, arr.dtype, compression=\"lzf\")\n",
    "            arr_hdf5_lzf[:] = arr[:]\n",
    "            hdf5_lzf_fp.close()\n",
    "        data[\"hdf5_lzf\"][encoding][\"fsize\"] = get_fsize_MB(hdf5_lzf_fpath)\n",
    "\n",
    "        # HDF5 GZIP\n",
    "        if FIRST_RUN:\n",
    "            hdf5_gzip_fp = h5py.File(hdf5_gzip_fpath, \"w\")\n",
    "            arr_hdf5_gzip = hdf5_gzip_fp.create_dataset(\"arr\", arr.shape, arr.dtype, compression=\"gzip\")\n",
    "            arr_hdf5_gzip[:] = arr[:]\n",
    "            hdf5_gzip_fp.close()\n",
    "        data[\"hdf5_gzip\"][encoding][\"fsize\"] = get_fsize_MB(hdf5_gzip_fpath)\n",
    "\n",
    "        # NumPy\n",
    "        if FIRST_RUN:\n",
    "            np.save(np_fpath, arr, allow_pickle=False)\n",
    "        data[\"numpy\"][encoding][\"fsize\"] = get_fsize_MB(np_fpath)\n",
    "\n",
    "        data[\"expelliarmus\"][encoding][\"full_read\"] = sum(timeit.repeat(lambda: wizard.read(), number=1, repeat=REPEAT))/REPEAT\n",
    "\n",
    "        hdf5_fp = h5py.File(hdf5_fpath)\n",
    "        data[\"hdf5\"][encoding][\"full_read\"] = sum(timeit.repeat(lambda: hdf5_fp[\"arr\"][:], number=1, repeat=REPEAT))/REPEAT\n",
    "        hdf5_fp.close()\n",
    "\n",
    "\n",
    "        hdf5_lzf_fp = h5py.File(hdf5_lzf_fpath)\n",
    "        data[\"hdf5_lzf\"][encoding][\"full_read\"] = sum(timeit.repeat(lambda: hdf5_lzf_fp[\"arr\"][:], number=1, repeat=REPEAT))/REPEAT\n",
    "        hdf5_lzf_fp.close()\n",
    "\n",
    "        hdf5_gzip_fp = h5py.File(hdf5_gzip_fpath)\n",
    "        data[\"hdf5_gzip\"][encoding][\"full_read\"] = sum(timeit.repeat(lambda: hdf5_gzip_fp[\"arr\"][:], number=1, repeat=REPEAT))/REPEAT\n",
    "        hdf5_gzip_fp.close()\n",
    "\n",
    "        data[\"numpy\"][encoding][\"full_read\"] = sum(timeit.repeat(lambda: np.load(np_fpath), number=1, repeat=REPEAT))/REPEAT\n",
    "\n",
    "    print(f'{encoding.upper()} ({data[\"expelliarmus\"][encoding][\"fsize\"]}MB), execution time: {data[\"expelliarmus\"][encoding][\"full_read\"]:.3f}s.')\n",
    "    print(f'HDF5 ({data[\"hdf5\"][encoding][\"fsize\"]}MB, {get_diff_perc_str(data[\"expelliarmus\"][encoding][\"fsize\"], data[\"hdf5\"][encoding][\"fsize\"])}), execution time: {data[\"hdf5\"][encoding][\"full_read\"]:.3f}s, {get_diff_perc_str(data[\"expelliarmus\"][encoding][\"full_read\"], data[\"hdf5\"][encoding][\"full_read\"])}.')\n",
    "    print(f'HDF5 GZIP ({data[\"hdf5_gzip\"][encoding][\"fsize\"]}MB, {get_diff_perc_str(data[\"expelliarmus\"][encoding][\"fsize\"], data[\"hdf5_gzip\"][encoding][\"fsize\"])}), execution time: {data[\"hdf5_gzip\"][encoding][\"full_read\"]:.3f}s, {get_diff_perc_str(data[\"expelliarmus\"][encoding][\"full_read\"], data[\"hdf5_gzip\"][encoding][\"full_read\"])}.')\n",
    "    print(f'HDF5 LZF ({data[\"hdf5_lzf\"][encoding][\"fsize\"]}MB, {get_diff_perc_str(data[\"expelliarmus\"][encoding][\"fsize\"], data[\"hdf5_lzf\"][encoding][\"fsize\"])}), execution time: {data[\"hdf5_lzf\"][encoding][\"full_read\"]:.3f}s, {get_diff_perc_str(data[\"expelliarmus\"][encoding][\"full_read\"], data[\"hdf5_lzf\"][encoding][\"full_read\"])}.')\n",
    "    print(f'NumPy ({data[\"numpy\"][encoding][\"fsize\"]}MB, {get_diff_perc_str(data[\"expelliarmus\"][encoding][\"fsize\"], data[\"numpy\"][encoding][\"fsize\"])}), execution time: {data[\"numpy\"][encoding][\"full_read\"]:.3f}s, {get_diff_perc_str(data[\"expelliarmus\"][encoding][\"full_read\"], data[\"numpy\"][encoding][\"full_read\"])}.')"
   ]
  },
  {
   "cell_type": "code",
   "execution_count": 6,
   "id": "ebc3f0ab",
   "metadata": {},
   "outputs": [],
   "source": [
    "import matplotlib.pyplot as plt\n",
    "import matplotlib as mpl\n",
    "mpl.rcParams['figure.dpi'] = 220\n",
    "plt.style.use('classic')\n",
    "%matplotlib inline"
   ]
  },
  {
   "cell_type": "code",
   "execution_count": 7,
   "id": "63fabd1f",
   "metadata": {},
   "outputs": [
    {
     "data": {
      "image/png": "[encoded data removed]",
      "text/plain": [
       "<Figure size 1440x576 with 3 Axes>"
      ]
     },
     "metadata": {
      "needs_background": "light"
     },
     "output_type": "display_data"
    }
   ],
   "source": [
    "fig, (ax0, ax1, ax2) = plt.subplots(nrows=1, ncols=3, sharey=True, figsize=(20, 8))\n",
    "\n",
    "# plt.ylim(bottom=0, top=3.5)\n",
    "ax0.set_xlabel(\"File size [MB]\")\n",
    "ax1.set_xlabel(\"File size [MB]\")\n",
    "ax2.set_xlabel(\"File size [MB]\")\n",
    "\n",
    "ax0.set_ylabel(\"Read time [s]\")\n",
    "\n",
    "ax0.set_title(\"DAT encoding (whole file)\")\n",
    "ax1.set_title(\"EVT2 encoding (whole file)\")\n",
    "ax2.set_title(\"EVT3 encoding (whole file)\")\n",
    "\n",
    "# Expelliarmus\n",
    "ax0.scatter(data[\"expelliarmus\"][\"dat\"][\"fsize\"], data[\"expelliarmus\"][\"dat\"][\"full_read\"], marker=\"o\", s=240, color=\"deepskyblue\", label=\"Expelliarmus\")\n",
    "ax1.scatter(data[\"expelliarmus\"][\"evt2\"][\"fsize\"], data[\"expelliarmus\"][\"evt2\"][\"full_read\"], marker=\"o\", s=240, color=\"deepskyblue\")\n",
    "exp = ax2.scatter(data[\"expelliarmus\"][\"evt3\"][\"fsize\"], data[\"expelliarmus\"][\"evt3\"][\"full_read\"], marker=\"o\", s=240, color=\"deepskyblue\")\n",
    "\n",
    "# HDF5\n",
    "ax0.scatter(data[\"hdf5\"][\"dat\"][\"fsize\"], data[\"hdf5\"][\"dat\"][\"full_read\"], marker=\">\", s=240, color=\"tomato\", label=\"HDF5\")\n",
    "ax1.scatter(data[\"hdf5\"][\"evt2\"][\"fsize\"], data[\"hdf5\"][\"evt2\"][\"full_read\"], marker=\">\", s=240, color=\"tomato\")\n",
    "hdf5 = ax2.scatter(data[\"hdf5\"][\"evt3\"][\"fsize\"], data[\"hdf5\"][\"evt3\"][\"full_read\"], marker=\">\", s=240, color=\"tomato\")\n",
    "\n",
    "# HDF5 LZF\n",
    "ax0.scatter(data[\"hdf5_lzf\"][\"dat\"][\"fsize\"], data[\"hdf5_lzf\"][\"dat\"][\"full_read\"], marker=\"^\", s=240, color=\"limegreen\", label=\"HDF5 LZF\")\n",
    "ax1.scatter(data[\"hdf5_lzf\"][\"evt2\"][\"fsize\"], data[\"hdf5_lzf\"][\"evt2\"][\"full_read\"], marker=\"^\", s=240, color=\"limegreen\")\n",
    "hdf5_lzf = ax2.scatter(data[\"hdf5_lzf\"][\"evt3\"][\"fsize\"], data[\"hdf5_lzf\"][\"evt3\"][\"full_read\"], marker=\"^\", s=240, color=\"limegreen\")\n",
    "\n",
    "# HDF5 GZIP\n",
    "ax0.scatter(data[\"hdf5_gzip\"][\"dat\"][\"fsize\"], data[\"hdf5_gzip\"][\"dat\"][\"full_read\"], marker=\"v\", s=240, color=\"mediumorchid\", label=\"HDF5 GZIP\")\n",
    "ax1.scatter(data[\"hdf5_gzip\"][\"evt2\"][\"fsize\"], data[\"hdf5_gzip\"][\"evt2\"][\"full_read\"], marker=\"v\", s=240, color=\"mediumorchid\")\n",
    "hdf5_gzip = ax2.scatter(data[\"hdf5_gzip\"][\"evt3\"][\"fsize\"], data[\"hdf5_gzip\"][\"evt3\"][\"full_read\"], marker=\"v\", s=240, color=\"mediumorchid\")\n",
    "\n",
    "# NumPy\n",
    "ax0.scatter(data[\"numpy\"][\"dat\"][\"fsize\"], data[\"numpy\"][\"dat\"][\"full_read\"], marker=\"*\", s=240, color=\"gold\", label=\"NumPy\")\n",
    "ax1.scatter(data[\"numpy\"][\"evt2\"][\"fsize\"], data[\"numpy\"][\"evt2\"][\"full_read\"], marker=\"*\", s=240, color=\"gold\")\n",
    "npy = ax2.scatter(data[\"numpy\"][\"evt3\"][\"fsize\"], data[\"numpy\"][\"evt3\"][\"full_read\"], marker=\"*\", s=240, color=\"gold\")\n",
    "\n",
    "plt.legend((exp, hdf5, hdf5_lzf, hdf5_gzip, npy), (\"Expelliarmus\", \"HDF5\", \"HDF5 LZF\", \"HDF5 GZIP\", \"NumPy\"), loc=\"upper right\")\n",
    "plt.show()"
   ]
  },
  {
   "cell_type": "code",
   "execution_count": 8,
   "id": "78854dde",
   "metadata": {},
   "outputs": [
    {
     "name": "stdout",
     "output_type": "stream",
     "text": [
      "\n",
      "==================================================\n",
      "Chunk reading.\n",
      "==================================================\n",
      "DAT (413MB), execution time: 0.625s.\n",
      "HDF5 (826MB, +100.00%), execution time: 1.992s, +218.60%.\n",
      "HDF5 LZF (316MB, -23.49%), execution time: 3.939s, +530.10%.\n",
      "HDF5 GZIP (163MB, -60.53%), execution time: 5.675s, +807.75%.\n",
      "==================================================\n",
      "EVT2 (157MB), execution time: 0.282s.\n",
      "HDF5 (621MB, +295.54%), execution time: 1.298s, +360.61%.\n",
      "HDF5 LZF (276MB, +75.80%), execution time: 3.511s, +1146.43%.\n",
      "HDF5 GZIP (156MB, -0.64%), execution time: 5.488s, +1848.33%.\n",
      "==================================================\n",
      "EVT3 (350MB), execution time: 1.795s.\n",
      "HDF5 (1701MB, +386.00%), execution time: 3.944s, +119.79%.\n",
      "HDF5 LZF (746MB, +113.14%), execution time: 10.360s, +477.28%.\n",
      "HDF5 GZIP (419MB, +19.71%), execution time: 17.359s, +867.31%.\n"
     ]
    }
   ],
   "source": [
    "CHUNK_SIZE = 8192\n",
    "print(\"\\n\"+\"=\"*50+\"\\nChunk reading.\")\n",
    "for f, encoding in zip(files, encodings):\n",
    "    print(\"=\"*50)\n",
    "    \n",
    "    if not LOAD_RESULTS:\n",
    "        arr_len = len(np.load(f\"ref_np_{encoding.upper()}.npy\"))\n",
    "        exp_fpath = pathlib.Path(f)\n",
    "        hdf5_fpath = pathlib.Path(f\"./ref_HDF5_{encoding.upper()}.hdf5\")\n",
    "        hdf5_lzf_fpath = pathlib.Path(f\"./ref_HDF5_LZF_{encoding.upper()}.hdf5\")\n",
    "        hdf5_gzip_fpath = pathlib.Path(f\"./ref_HDF5_GZIP_{encoding.upper()}.hdf5\")\n",
    "\n",
    "        wizard.set_encoding(encoding)\n",
    "        wizard.set_file(exp_fpath)\n",
    "        wizard.set_chunk_size(CHUNK_SIZE)\n",
    "        def fn():\n",
    "            wizard.reset()\n",
    "            return [chunk for chunk in wizard.read_chunk()]\n",
    "\n",
    "        data[\"expelliarmus\"][encoding][\"chunk_read\"] = sum(timeit.repeat(fn, number=1, repeat=REPEAT))/REPEAT\n",
    "\n",
    "        hdf5_fp = h5py.File(hdf5_fpath)\n",
    "        data[\"hdf5\"][encoding][\"chunk_read\"] = sum(timeit.repeat(lambda: [hdf5_fp[\"arr\"][i*CHUNK_SIZE:min(arr_len, (i+1)*CHUNK_SIZE)] for i in range(arr_len//CHUNK_SIZE)], number=1, repeat=REPEAT))/REPEAT\n",
    "\n",
    "        hdf5_lzf_fp = h5py.File(hdf5_lzf_fpath)\n",
    "        data[\"hdf5_lzf\"][encoding][\"chunk_read\"] = sum(timeit.repeat(lambda: [hdf5_lzf_fp[\"arr\"][i*CHUNK_SIZE:min(arr_len, (i+1)*CHUNK_SIZE)] for i in range(arr_len//CHUNK_SIZE)], number=1, repeat=REPEAT))/REPEAT\n",
    "\n",
    "        hdf5_gzip_fp = h5py.File(hdf5_gzip_fpath)\n",
    "        data[\"hdf5_gzip\"][encoding][\"chunk_read\"] = sum(timeit.repeat(lambda: [hdf5_gzip_fp[\"arr\"][i*CHUNK_SIZE:min(arr_len, (i+1)*CHUNK_SIZE)] for i in range(arr_len//CHUNK_SIZE)], number=1, repeat=REPEAT))/REPEAT\n",
    "\n",
    "        hdf5_fp.close()\n",
    "        hdf5_lzf_fp.close()\n",
    "        hdf5_gzip_fp.close()\n",
    "\n",
    "    print(f'{encoding.upper()} ({data[\"expelliarmus\"][encoding][\"fsize\"]}MB), execution time: {data[\"expelliarmus\"][encoding][\"chunk_read\"]:.3f}s.')\n",
    "    print(f'HDF5 ({data[\"hdf5\"][encoding][\"fsize\"]}MB, {get_diff_perc_str(data[\"expelliarmus\"][encoding][\"fsize\"], data[\"hdf5\"][encoding][\"fsize\"])}), execution time: {data[\"hdf5\"][encoding][\"chunk_read\"]:.3f}s, {get_diff_perc_str(data[\"expelliarmus\"][encoding][\"chunk_read\"], data[\"hdf5\"][encoding][\"chunk_read\"])}.')\n",
    "    print(f'HDF5 LZF ({data[\"hdf5_lzf\"][encoding][\"fsize\"]}MB, {get_diff_perc_str(data[\"expelliarmus\"][encoding][\"fsize\"], data[\"hdf5_lzf\"][encoding][\"fsize\"])}), execution time: {data[\"hdf5_lzf\"][encoding][\"chunk_read\"]:.3f}s, {get_diff_perc_str(data[\"expelliarmus\"][encoding][\"chunk_read\"], data[\"hdf5_lzf\"][encoding][\"chunk_read\"])}.')\n",
    "    print(f'HDF5 GZIP ({data[\"hdf5_gzip\"][encoding][\"fsize\"]}MB, {get_diff_perc_str(data[\"expelliarmus\"][encoding][\"fsize\"], data[\"hdf5_gzip\"][encoding][\"fsize\"])}), execution time: {data[\"hdf5_gzip\"][encoding][\"chunk_read\"]:.3f}s, {get_diff_perc_str(data[\"expelliarmus\"][encoding][\"chunk_read\"], data[\"hdf5_gzip\"][encoding][\"chunk_read\"])}.')\n",
    "    "
   ]
  },
  {
   "cell_type": "code",
   "execution_count": 9,
   "id": "892375ab",
   "metadata": {
    "scrolled": false
   },
   "outputs": [
    {
     "data": {
      "image/png": "[encoded data removed]",
      "text/plain": [
       "<Figure size 1440x576 with 3 Axes>"
      ]
     },
     "metadata": {
      "needs_background": "light"
     },
     "output_type": "display_data"
    }
   ],
   "source": [
    "fig, (ax0, ax1, ax2) = plt.subplots(nrows=1, ncols=3, sharey=True, figsize=(20, 8))\n",
    "\n",
    "# plt.ylim(bottom=0, top=3.5)\n",
    "ax0.set_xlabel(\"File size [MB]\")\n",
    "ax1.set_xlabel(\"File size [MB]\")\n",
    "ax2.set_xlabel(\"File size [MB]\")\n",
    "\n",
    "ax0.set_ylabel(\"Read time [s]\")\n",
    "\n",
    "ax0.set_title(\"DAT encoding (chunked file)\")\n",
    "ax1.set_title(\"EVT2 encoding (chunked file)\")\n",
    "ax2.set_title(\"EVT3 encoding (chunked file)\")\n",
    "\n",
    "# Expelliarmus\n",
    "ax0.scatter(data[\"expelliarmus\"][\"dat\"][\"fsize\"], data[\"expelliarmus\"][\"dat\"][\"chunk_read\"], marker=\"o\", s=240, color=\"deepskyblue\", label=\"Expelliarmus\")\n",
    "ax1.scatter(data[\"expelliarmus\"][\"evt2\"][\"fsize\"], data[\"expelliarmus\"][\"evt2\"][\"chunk_read\"], marker=\"o\", s=240, color=\"deepskyblue\")\n",
    "exp = ax2.scatter(data[\"expelliarmus\"][\"evt3\"][\"fsize\"], data[\"expelliarmus\"][\"evt3\"][\"chunk_read\"], marker=\"o\", s=240, color=\"deepskyblue\")\n",
    "\n",
    "# HDF5\n",
    "ax0.scatter(data[\"hdf5\"][\"dat\"][\"fsize\"], data[\"hdf5\"][\"dat\"][\"chunk_read\"], marker=\">\", s=240, color=\"tomato\", label=\"HDF5\")\n",
    "ax1.scatter(data[\"hdf5\"][\"evt2\"][\"fsize\"], data[\"hdf5\"][\"evt2\"][\"chunk_read\"], marker=\">\", s=240, color=\"tomato\")\n",
    "hdf5 = ax2.scatter(data[\"hdf5\"][\"evt3\"][\"fsize\"], data[\"hdf5\"][\"evt3\"][\"chunk_read\"], marker=\">\", s=240, color=\"tomato\")\n",
    "\n",
    "# HDF5 LZF\n",
    "ax0.scatter(data[\"hdf5_lzf\"][\"dat\"][\"fsize\"], data[\"hdf5_lzf\"][\"dat\"][\"chunk_read\"], marker=\"^\", s=240, color=\"limegreen\", label=\"HDF5 LZF\")\n",
    "ax1.scatter(data[\"hdf5_lzf\"][\"evt2\"][\"fsize\"], data[\"hdf5_lzf\"][\"evt2\"][\"chunk_read\"], marker=\"^\", s=240, color=\"limegreen\")\n",
    "hdf5_lzf = ax2.scatter(data[\"hdf5_lzf\"][\"evt3\"][\"fsize\"], data[\"hdf5_lzf\"][\"evt3\"][\"chunk_read\"], marker=\"^\", s=240, color=\"limegreen\")\n",
    "\n",
    "# HDF5 GZIP\n",
    "ax0.scatter(data[\"hdf5_gzip\"][\"dat\"][\"fsize\"], data[\"hdf5_gzip\"][\"dat\"][\"chunk_read\"], marker=\"v\", s=240, color=\"mediumorchid\", label=\"HDF5 GZIP\")\n",
    "hdf5_gzip = ax1.scatter(data[\"hdf5_gzip\"][\"evt2\"][\"fsize\"], data[\"hdf5_gzip\"][\"evt2\"][\"chunk_read\"], marker=\"v\", s=240, color=\"mediumorchid\")\n",
    "hdf5_gzip = ax2.scatter(data[\"hdf5_gzip\"][\"evt3\"][\"fsize\"], data[\"hdf5_gzip\"][\"evt3\"][\"chunk_read\"], marker=\"v\", s=240, color=\"mediumorchid\")\n",
    "\n",
    "plt.legend((exp, hdf5, hdf5_lzf, hdf5_gzip), (\"Expelliarmus\", \"HDF5\", \"HDF5 LZF\", \"HDF5 GZIP\"), loc=\"upper right\")\n",
    "plt.show()"
   ]
  },
  {
   "cell_type": "code",
   "execution_count": 10,
   "id": "e8abe958",
   "metadata": {},
   "outputs": [],
   "source": [
    "if SAVE_RESULTS:\n",
    "    pickle.dump(data, open(\"./benchmark.pk\", \"wb\"))"
   ]
  }
 ],
 "metadata": {
  "kernelspec": {
   "display_name": "Python 3 (ipykernel)",
   "language": "python",
   "name": "python3"
  },
  "language_info": {
   "codemirror_mode": {
    "name": "ipython",
    "version": 3
   },
   "file_extension": ".py",
   "mimetype": "text/x-python",
   "name": "python",
   "nbconvert_exporter": "python",
   "pygments_lexer": "ipython3",
   "version": "3.10.4"
  }
 },
 "nbformat": 4,
 "nbformat_minor": 5
}
